{
 "cells": [
  {
   "cell_type": "code",
   "execution_count": 1,
   "id": "35c0dd4d",
   "metadata": {},
   "outputs": [],
   "source": [
    "import pandas as pd\n",
    "from utils import make_connection"
   ]
  },
  {
   "cell_type": "code",
   "execution_count": 2,
   "id": "4c971a24",
   "metadata": {},
   "outputs": [
    {
     "name": "stdout",
     "output_type": "stream",
     "text": [
      "Connection successful\n"
     ]
    }
   ],
   "source": [
    "wh_conn = make_connection(config_file = 'dw_config.ini')\n",
    "wh_cursor = wh_conn.cursor()"
   ]
  },
  {
   "cell_type": "code",
   "execution_count": 16,
   "id": "eaaafb8c",
   "metadata": {},
   "outputs": [
    {
     "name": "stdout",
     "output_type": "stream",
     "text": [
      "3\n"
     ]
    }
   ],
   "source": [
    "# Fetching all_restaurants table data\n",
    "top_3_appetizers = '''\n",
    "                SELECT \n",
    "    m.menu_id,\n",
    "    m.item_name,\n",
    "    ROUND(AVG(m.rating), 2) as average_rating\n",
    "FROM \n",
    "    menu_dim AS m\n",
    "JOIN \n",
    "    sales_fact AS s ON m.menu_id = s.menu_id\n",
    "WHERE \n",
    "    m.category = 'Appetizer'\n",
    "GROUP BY \n",
    "    m.menu_id, \n",
    "    m.item_name\n",
    "ORDER BY \n",
    "    average_rating DESC\n",
    "LIMIT 3;\n",
    "                '''\n",
    "\n",
    "wh_cursor.execute(top_3_appetizers)\n",
    "\n",
    "rows  = wh_cursor.fetchall()\n",
    "count = wh_cursor.rowcount\n",
    "print(count)"
   ]
  },
  {
   "cell_type": "code",
   "execution_count": 17,
   "id": "fb3ab8b6",
   "metadata": {},
   "outputs": [
    {
     "data": {
      "text/html": [
       "<div>\n",
       "<style scoped>\n",
       "    .dataframe tbody tr th:only-of-type {\n",
       "        vertical-align: middle;\n",
       "    }\n",
       "\n",
       "    .dataframe tbody tr th {\n",
       "        vertical-align: top;\n",
       "    }\n",
       "\n",
       "    .dataframe thead th {\n",
       "        text-align: right;\n",
       "    }\n",
       "</style>\n",
       "<table border=\"1\" class=\"dataframe\">\n",
       "  <thead>\n",
       "    <tr style=\"text-align: right;\">\n",
       "      <th></th>\n",
       "      <th>menu_id</th>\n",
       "      <th>item_name</th>\n",
       "      <th>average_rating</th>\n",
       "    </tr>\n",
       "  </thead>\n",
       "  <tbody>\n",
       "    <tr>\n",
       "      <th>0</th>\n",
       "      <td>9</td>\n",
       "      <td>Pani Puri</td>\n",
       "      <td>4.00</td>\n",
       "    </tr>\n",
       "    <tr>\n",
       "      <th>1</th>\n",
       "      <td>19</td>\n",
       "      <td>Chana Chaat</td>\n",
       "      <td>4.00</td>\n",
       "    </tr>\n",
       "    <tr>\n",
       "      <th>2</th>\n",
       "      <td>3</td>\n",
       "      <td>Aloo Tikki (potato patties)</td>\n",
       "      <td>3.67</td>\n",
       "    </tr>\n",
       "  </tbody>\n",
       "</table>\n",
       "</div>"
      ],
      "text/plain": [
       "   menu_id                    item_name  average_rating\n",
       "0        9                    Pani Puri            4.00\n",
       "1       19                  Chana Chaat            4.00\n",
       "2        3  Aloo Tikki (potato patties)            3.67"
      ]
     },
     "execution_count": 17,
     "metadata": {},
     "output_type": "execute_result"
    }
   ],
   "source": [
    "# Creating dataframe of all_restaurants data\n",
    "top_3_appetizers_df = pd.DataFrame(rows)\n",
    "\n",
    "num_fields = len(wh_cursor.description)\n",
    "field_names = [i[0] for i in wh_cursor.description]\n",
    "field_names\n",
    "\n",
    "top_3_appetizers_df.columns = field_names\n",
    "top_3_appetizers_df.head()"
   ]
  },
  {
   "cell_type": "code",
   "execution_count": 18,
   "id": "1ab9c9ad",
   "metadata": {},
   "outputs": [
    {
     "data": {
      "image/png": "[encoded data removed]",
      "text/plain": [
       "<Figure size 1000x600 with 1 Axes>"
      ]
     },
     "metadata": {},
     "output_type": "display_data"
    }
   ],
   "source": [
    "import matplotlib.pyplot as plt\n",
    "import pandas as pd\n",
    "\n",
    "data = top_3_appetizers_df[['item_name', 'average_rating']]\n",
    "\n",
    "# # Sample DataFrame\n",
    "# data = {\n",
    "#     'item_name': ['Appetizer A', 'Appetizer B', 'Appetizer C'],\n",
    "#     'average_rating': [4.5, 4.3, 4.2]\n",
    "# }\n",
    "top_appetizers = pd.DataFrame(data)\n",
    "\n",
    "# Now, let's plot the data\n",
    "plt.figure(figsize=(10, 6))\n",
    "plt.bar(top_appetizers['item_name'], top_appetizers['average_rating'], color='skyblue')\n",
    "\n",
    "# Adding titles and labels\n",
    "plt.title('Top 3 Rated Appetizers')\n",
    "plt.xlabel('Appetizer')\n",
    "plt.ylabel('Average Rating')\n",
    "plt.ylim(0, 5)  # Assuming the rating is out of 5\n",
    "\n",
    "# Display the average rating above each bar\n",
    "for i in range(len(top_appetizers)):\n",
    "    plt.text(i, top_appetizers['average_rating'][i] + 0.05, top_appetizers['average_rating'][i], ha = 'center')\n",
    "\n",
    "# Show the plot\n",
    "plt.show()"
   ]
  },
  {
   "cell_type": "code",
   "execution_count": null,
   "id": "ea36f1be",
   "metadata": {},
   "outputs": [],
   "source": []
  }
 ],
 "metadata": {
  "kernelspec": {
   "display_name": "Python 3 (ipykernel)",
   "language": "python",
   "name": "python3"
  },
  "language_info": {
   "codemirror_mode": {
    "name": "ipython",
    "version": 3
   },
   "file_extension": ".py",
   "mimetype": "text/x-python",
   "name": "python",
   "nbconvert_exporter": "python",
   "pygments_lexer": "ipython3",
   "version": "3.10.9"
  }
 },
 "nbformat": 4,
 "nbformat_minor": 5
}
